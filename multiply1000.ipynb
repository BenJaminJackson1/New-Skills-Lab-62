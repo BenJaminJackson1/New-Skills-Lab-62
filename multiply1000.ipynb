{
 "cells": [
  {
   "cell_type": "code",
   "execution_count": 5,
   "id": "af21992b-9a29-40e1-8a37-64c08ca9ea29",
   "metadata": {},
   "outputs": [
    {
     "name": "stdin",
     "output_type": "stream",
     "text": [
      "Enter an integer: 12304712308478\n"
     ]
    },
    {
     "name": "stdout",
     "output_type": "stream",
     "text": [
      "This is your numer multiplied by 1000:  12304712308478000\n"
     ]
    }
   ],
   "source": [
    "user_int = int(input(\"Enter an integer:\"))\n",
    "\n",
    "user_int = user_int * 1000\n",
    "print(\"This is your numer multiplied by 1000: \", user_int)"
   ]
  },
  {
   "cell_type": "code",
   "execution_count": null,
   "id": "9e179972-a719-4ed4-890c-9785ce18eb57",
   "metadata": {},
   "outputs": [],
   "source": []
  }
 ],
 "metadata": {
  "kernelspec": {
   "display_name": "Python 3 (ipykernel)",
   "language": "python",
   "name": "python3"
  },
  "language_info": {
   "codemirror_mode": {
    "name": "ipython",
    "version": 3
   },
   "file_extension": ".py",
   "mimetype": "text/x-python",
   "name": "python",
   "nbconvert_exporter": "python",
   "pygments_lexer": "ipython3",
   "version": "3.12.4"
  }
 },
 "nbformat": 4,
 "nbformat_minor": 5
}
